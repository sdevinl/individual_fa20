{
 "cells": [
  {
   "cell_type": "markdown",
   "metadata": {},
   "source": [
    "# COGS 108 - Final Project "
   ]
  },
  {
   "cell_type": "markdown",
   "metadata": {},
   "source": [
    "# Overview"
   ]
  },
  {
   "cell_type": "markdown",
   "metadata": {},
   "source": [
    "*Fill in your overview here*"
   ]
  },
  {
   "cell_type": "markdown",
   "metadata": {},
   "source": [
    "# Name & GitHub ID\n",
    "\n",
    "- Name: Steven Liu\n",
    "- GitHub Username: SdevinL"
   ]
  },
  {
   "cell_type": "markdown",
   "metadata": {},
   "source": [
    "# Research Question"
   ]
  },
  {
   "cell_type": "markdown",
   "metadata": {},
   "source": [
    "Why don't people visit the park more?"
   ]
  },
  {
   "cell_type": "markdown",
   "metadata": {},
   "source": [
    "## Background and Prior Work"
   ]
  },
  {
   "cell_type": "markdown",
   "metadata": {},
   "source": [
    "*Fill in your background and prior work here* \n",
    "\n",
    "References (include links):\n",
    "- 1)\n",
    "- 2)"
   ]
  },
  {
   "cell_type": "markdown",
   "metadata": {},
   "source": [
    "# Hypothesis\n"
   ]
  },
  {
   "cell_type": "markdown",
   "metadata": {},
   "source": [
    "*Fill in your hypotheses here*"
   ]
  },
  {
   "cell_type": "markdown",
   "metadata": {},
   "source": [
    "# Dataset(s)"
   ]
  },
  {
   "cell_type": "markdown",
   "metadata": {},
   "source": [
    "- Dataset Name: Parks Survey 2015\n",
    "- Link to the dataset: https://data.lacounty.gov/Recreation/Parks-Survey-2015/i4ww-mbp3\n",
    "- Number of observations: 2208\n",
    "\n",
    "This is a collection of data from a online survey form. The data has park name and which region they belong to. Also, the data contains letter grades that grade the park on cleanliness, safety, activity, courtesy, and visit again. The grading scale for the survey is \"A\" being the best to \"F\" being the worst.\n",
    "\n"
   ]
  },
  {
   "cell_type": "markdown",
   "metadata": {},
   "source": [
    "# Setup"
   ]
  },
  {
   "cell_type": "code",
   "execution_count": 102,
   "metadata": {},
   "outputs": [
    {
     "data": {
      "text/html": [
       "<div>\n",
       "<style scoped>\n",
       "    .dataframe tbody tr th:only-of-type {\n",
       "        vertical-align: middle;\n",
       "    }\n",
       "\n",
       "    .dataframe tbody tr th {\n",
       "        vertical-align: top;\n",
       "    }\n",
       "\n",
       "    .dataframe thead th {\n",
       "        text-align: right;\n",
       "    }\n",
       "</style>\n",
       "<table border=\"1\" class=\"dataframe\">\n",
       "  <thead>\n",
       "    <tr style=\"text-align: right;\">\n",
       "      <th></th>\n",
       "      <th>PARK AGENCY</th>\n",
       "      <th>PARK NAME</th>\n",
       "      <th>CLEANLINESS</th>\n",
       "      <th>SAFETY</th>\n",
       "      <th>ACTIVITY</th>\n",
       "      <th>COURTESY</th>\n",
       "      <th>VISIT AGAIN</th>\n",
       "      <th>SURVEY_DATE</th>\n",
       "    </tr>\n",
       "  </thead>\n",
       "  <tbody>\n",
       "    <tr>\n",
       "      <th>0</th>\n",
       "      <td>REGIONAL</td>\n",
       "      <td>Kenneth Hahn State Recreation Area</td>\n",
       "      <td>B</td>\n",
       "      <td>A</td>\n",
       "      <td>NaN</td>\n",
       "      <td>A</td>\n",
       "      <td>A</td>\n",
       "      <td>01/01/2015</td>\n",
       "    </tr>\n",
       "    <tr>\n",
       "      <th>1</th>\n",
       "      <td>REGIONAL</td>\n",
       "      <td>Devil's Punchbowl Natural Area and Nature Center</td>\n",
       "      <td>C</td>\n",
       "      <td>B</td>\n",
       "      <td>NaN</td>\n",
       "      <td>A</td>\n",
       "      <td>A</td>\n",
       "      <td>01/01/2015</td>\n",
       "    </tr>\n",
       "    <tr>\n",
       "      <th>2</th>\n",
       "      <td>REGIONAL</td>\n",
       "      <td>Devil's Punchbowl Natural Area and Nature Center</td>\n",
       "      <td>A</td>\n",
       "      <td>B</td>\n",
       "      <td>NaN</td>\n",
       "      <td>B</td>\n",
       "      <td>A</td>\n",
       "      <td>01/03/2015</td>\n",
       "    </tr>\n",
       "    <tr>\n",
       "      <th>3</th>\n",
       "      <td>EAST</td>\n",
       "      <td>Avenue Park</td>\n",
       "      <td>A</td>\n",
       "      <td>C</td>\n",
       "      <td>A</td>\n",
       "      <td>A</td>\n",
       "      <td>A</td>\n",
       "      <td>01/03/2015</td>\n",
       "    </tr>\n",
       "    <tr>\n",
       "      <th>4</th>\n",
       "      <td>EAST</td>\n",
       "      <td>Dalton Park</td>\n",
       "      <td>A</td>\n",
       "      <td>A</td>\n",
       "      <td>NaN</td>\n",
       "      <td>A</td>\n",
       "      <td>A</td>\n",
       "      <td>01/03/2015</td>\n",
       "    </tr>\n",
       "  </tbody>\n",
       "</table>\n",
       "</div>"
      ],
      "text/plain": [
       "  PARK AGENCY                                         PARK NAME CLEANLINESS  \\\n",
       "0    REGIONAL                Kenneth Hahn State Recreation Area           B   \n",
       "1    REGIONAL  Devil's Punchbowl Natural Area and Nature Center           C   \n",
       "2    REGIONAL  Devil's Punchbowl Natural Area and Nature Center           A   \n",
       "3        EAST                                       Avenue Park           A   \n",
       "4        EAST                                       Dalton Park           A   \n",
       "\n",
       "  SAFETY ACTIVITY COURTESY VISIT AGAIN SURVEY_DATE  \n",
       "0      A      NaN        A           A  01/01/2015  \n",
       "1      B      NaN        A           A  01/01/2015  \n",
       "2      B      NaN        B           A  01/03/2015  \n",
       "3      C        A        A           A  01/03/2015  \n",
       "4      A      NaN        A           A  01/03/2015  "
      ]
     },
     "execution_count": 102,
     "metadata": {},
     "output_type": "execute_result"
    }
   ],
   "source": [
    "import pandas as pd\n",
    "import numpy as np\n",
    "\n",
    "# Dataset from: https://data.lacounty.gov/Recreation/Parks-Survey-2015/i4ww-mbp3\n",
    "data = pd.read_csv('Parks_Survey_2015.csv')\n",
    "\n",
    "# Let's see what the data looks like\n",
    "data.head()"
   ]
  },
  {
   "cell_type": "markdown",
   "metadata": {},
   "source": []
  },
  {
   "cell_type": "markdown",
   "metadata": {},
   "source": [
    "# Data Cleaning"
   ]
  },
  {
   "cell_type": "markdown",
   "metadata": {},
   "source": [
    "Describe your data cleaning steps here."
   ]
  },
  {
   "cell_type": "code",
   "execution_count": 103,
   "metadata": {},
   "outputs": [
    {
     "data": {
      "text/plain": [
       "(2208, 8)"
      ]
     },
     "execution_count": 103,
     "metadata": {},
     "output_type": "execute_result"
    }
   ],
   "source": [
    "data.shape"
   ]
  },
  {
   "cell_type": "markdown",
   "metadata": {},
   "source": [
    "We have 2208 rows, and 8 columns. We will only care about the features cleanliness, safety, activity, courtesy, and visit again because they are the features that we can use to perform tasks."
   ]
  },
  {
   "cell_type": "code",
   "execution_count": 104,
   "metadata": {},
   "outputs": [
    {
     "data": {
      "text/plain": [
       "PARK AGENCY      0\n",
       "PARK NAME        0\n",
       "CLEANLINESS     12\n",
       "SAFETY          18\n",
       "ACTIVITY       585\n",
       "COURTESY        75\n",
       "VISIT AGAIN     60\n",
       "SURVEY_DATE      0\n",
       "dtype: int64"
      ]
     },
     "execution_count": 104,
     "metadata": {},
     "output_type": "execute_result"
    }
   ],
   "source": [
    "# Checking for NaN values to see if it is worth dropping\n",
    "\n",
    "data.isna().sum()"
   ]
  },
  {
   "cell_type": "markdown",
   "metadata": {},
   "source": [
    "If we drop the rows with missing values, we will have to drop at least 585 rows. That is about a quarter of the data, so I will fill in these missing values."
   ]
  },
  {
   "cell_type": "code",
   "execution_count": 105,
   "metadata": {},
   "outputs": [
    {
     "name": "stdout",
     "output_type": "stream",
     "text": [
      "CLEANLINESS :  ['B' 'C' 'A' 'F' 'D' nan]\n",
      "SAFETY :  ['A' 'B' 'C' 'F' 'D' nan]\n",
      "ACTIVITY :  [nan 'A' 'C' 'F' 'B' 'D']\n",
      "COURTESY :  ['A' 'B' 'F' nan 'C' 'D']\n",
      "VISIT AGAIN :  ['A' 'F' 'B' 'C' 'D' nan]\n"
     ]
    }
   ],
   "source": [
    "# Let's see what possible values are in the features we care about\n",
    "for col in data.iloc[:,2:7]:\n",
    "    print(col, ': ', data[col].unique())"
   ]
  },
  {
   "cell_type": "markdown",
   "metadata": {},
   "source": [
    "We currently see string values, which will need to be converted into numeric values. Knowing the dataset, we know that A is the most positive response toward the features, and F is the worst."
   ]
  },
  {
   "cell_type": "code",
   "execution_count": 106,
   "metadata": {},
   "outputs": [
    {
     "data": {
      "text/html": [
       "<div>\n",
       "<style scoped>\n",
       "    .dataframe tbody tr th:only-of-type {\n",
       "        vertical-align: middle;\n",
       "    }\n",
       "\n",
       "    .dataframe tbody tr th {\n",
       "        vertical-align: top;\n",
       "    }\n",
       "\n",
       "    .dataframe thead th {\n",
       "        text-align: right;\n",
       "    }\n",
       "</style>\n",
       "<table border=\"1\" class=\"dataframe\">\n",
       "  <thead>\n",
       "    <tr style=\"text-align: right;\">\n",
       "      <th></th>\n",
       "      <th>PARK AGENCY</th>\n",
       "      <th>PARK NAME</th>\n",
       "      <th>CLEANLINESS</th>\n",
       "      <th>SAFETY</th>\n",
       "      <th>ACTIVITY</th>\n",
       "      <th>COURTESY</th>\n",
       "      <th>VISIT AGAIN</th>\n",
       "      <th>SURVEY_DATE</th>\n",
       "    </tr>\n",
       "  </thead>\n",
       "  <tbody>\n",
       "    <tr>\n",
       "      <th>0</th>\n",
       "      <td>REGIONAL</td>\n",
       "      <td>Kenneth Hahn State Recreation Area</td>\n",
       "      <td>2.0</td>\n",
       "      <td>1.0</td>\n",
       "      <td>NaN</td>\n",
       "      <td>1.0</td>\n",
       "      <td>1.0</td>\n",
       "      <td>01/01/2015</td>\n",
       "    </tr>\n",
       "    <tr>\n",
       "      <th>1</th>\n",
       "      <td>REGIONAL</td>\n",
       "      <td>Devil's Punchbowl Natural Area and Nature Center</td>\n",
       "      <td>3.0</td>\n",
       "      <td>2.0</td>\n",
       "      <td>NaN</td>\n",
       "      <td>1.0</td>\n",
       "      <td>1.0</td>\n",
       "      <td>01/01/2015</td>\n",
       "    </tr>\n",
       "    <tr>\n",
       "      <th>2</th>\n",
       "      <td>REGIONAL</td>\n",
       "      <td>Devil's Punchbowl Natural Area and Nature Center</td>\n",
       "      <td>1.0</td>\n",
       "      <td>2.0</td>\n",
       "      <td>NaN</td>\n",
       "      <td>2.0</td>\n",
       "      <td>1.0</td>\n",
       "      <td>01/03/2015</td>\n",
       "    </tr>\n",
       "    <tr>\n",
       "      <th>3</th>\n",
       "      <td>EAST</td>\n",
       "      <td>Avenue Park</td>\n",
       "      <td>1.0</td>\n",
       "      <td>3.0</td>\n",
       "      <td>1.0</td>\n",
       "      <td>1.0</td>\n",
       "      <td>1.0</td>\n",
       "      <td>01/03/2015</td>\n",
       "    </tr>\n",
       "    <tr>\n",
       "      <th>4</th>\n",
       "      <td>EAST</td>\n",
       "      <td>Dalton Park</td>\n",
       "      <td>1.0</td>\n",
       "      <td>1.0</td>\n",
       "      <td>NaN</td>\n",
       "      <td>1.0</td>\n",
       "      <td>1.0</td>\n",
       "      <td>01/03/2015</td>\n",
       "    </tr>\n",
       "  </tbody>\n",
       "</table>\n",
       "</div>"
      ],
      "text/plain": [
       "  PARK AGENCY                                         PARK NAME  CLEANLINESS  \\\n",
       "0    REGIONAL                Kenneth Hahn State Recreation Area          2.0   \n",
       "1    REGIONAL  Devil's Punchbowl Natural Area and Nature Center          3.0   \n",
       "2    REGIONAL  Devil's Punchbowl Natural Area and Nature Center          1.0   \n",
       "3        EAST                                       Avenue Park          1.0   \n",
       "4        EAST                                       Dalton Park          1.0   \n",
       "\n",
       "   SAFETY  ACTIVITY  COURTESY  VISIT AGAIN SURVEY_DATE  \n",
       "0     1.0       NaN       1.0          1.0  01/01/2015  \n",
       "1     2.0       NaN       1.0          1.0  01/01/2015  \n",
       "2     2.0       NaN       2.0          1.0  01/03/2015  \n",
       "3     3.0       1.0       1.0          1.0  01/03/2015  \n",
       "4     1.0       NaN       1.0          1.0  01/03/2015  "
      ]
     },
     "execution_count": 106,
     "metadata": {},
     "output_type": "execute_result"
    }
   ],
   "source": [
    "# Values range from A, B, C, D, F and can be converted to numerical values 1-5\n",
    "data = data.replace(['A', 'B', 'C', 'D', 'F'], [1, 2, 3, 4, 5])\n",
    "\n",
    "# Let's see what data looks now:\n",
    "data.head()"
   ]
  },
  {
   "cell_type": "markdown",
   "metadata": {},
   "source": [
    "The ordinal variables have been converted into numeric variables. Now, we can use the mean of these features in order to fill for the NaN values."
   ]
  },
  {
   "cell_type": "code",
   "execution_count": null,
   "metadata": {},
   "outputs": [],
   "source": [
    "# We will fill missing values with the mean of the column \n",
    "data = data.replace(np.nan, data.mean())\n",
    "\n",
    "data.head()"
   ]
  },
  {
   "cell_type": "markdown",
   "metadata": {},
   "source": [
    "# EDA"
   ]
  },
  {
   "cell_type": "markdown",
   "metadata": {},
   "source": [
    "No more strings and NaN values in our features! We can now perform some EDA to get a sense of what our data looks like."
   ]
  },
  {
   "cell_type": "code",
   "execution_count": 109,
   "metadata": {},
   "outputs": [
    {
     "data": {
      "text/html": [
       "<div>\n",
       "<style scoped>\n",
       "    .dataframe tbody tr th:only-of-type {\n",
       "        vertical-align: middle;\n",
       "    }\n",
       "\n",
       "    .dataframe tbody tr th {\n",
       "        vertical-align: top;\n",
       "    }\n",
       "\n",
       "    .dataframe thead th {\n",
       "        text-align: right;\n",
       "    }\n",
       "</style>\n",
       "<table border=\"1\" class=\"dataframe\">\n",
       "  <thead>\n",
       "    <tr style=\"text-align: right;\">\n",
       "      <th></th>\n",
       "      <th>CLEANLINESS</th>\n",
       "      <th>SAFETY</th>\n",
       "      <th>ACTIVITY</th>\n",
       "      <th>COURTESY</th>\n",
       "      <th>VISIT AGAIN</th>\n",
       "    </tr>\n",
       "  </thead>\n",
       "  <tbody>\n",
       "    <tr>\n",
       "      <th>count</th>\n",
       "      <td>2208.000000</td>\n",
       "      <td>2208.000000</td>\n",
       "      <td>2208.000000</td>\n",
       "      <td>2208.000000</td>\n",
       "      <td>2208.000000</td>\n",
       "    </tr>\n",
       "    <tr>\n",
       "      <th>mean</th>\n",
       "      <td>1.366120</td>\n",
       "      <td>1.336073</td>\n",
       "      <td>1.290203</td>\n",
       "      <td>1.289733</td>\n",
       "      <td>1.269088</td>\n",
       "    </tr>\n",
       "    <tr>\n",
       "      <th>std</th>\n",
       "      <td>0.872382</td>\n",
       "      <td>0.852154</td>\n",
       "      <td>0.739927</td>\n",
       "      <td>0.847969</td>\n",
       "      <td>0.837625</td>\n",
       "    </tr>\n",
       "    <tr>\n",
       "      <th>min</th>\n",
       "      <td>1.000000</td>\n",
       "      <td>1.000000</td>\n",
       "      <td>1.000000</td>\n",
       "      <td>1.000000</td>\n",
       "      <td>1.000000</td>\n",
       "    </tr>\n",
       "    <tr>\n",
       "      <th>25%</th>\n",
       "      <td>1.000000</td>\n",
       "      <td>1.000000</td>\n",
       "      <td>1.000000</td>\n",
       "      <td>1.000000</td>\n",
       "      <td>1.000000</td>\n",
       "    </tr>\n",
       "    <tr>\n",
       "      <th>50%</th>\n",
       "      <td>1.000000</td>\n",
       "      <td>1.000000</td>\n",
       "      <td>1.000000</td>\n",
       "      <td>1.000000</td>\n",
       "      <td>1.000000</td>\n",
       "    </tr>\n",
       "    <tr>\n",
       "      <th>75%</th>\n",
       "      <td>1.000000</td>\n",
       "      <td>1.000000</td>\n",
       "      <td>1.290203</td>\n",
       "      <td>1.000000</td>\n",
       "      <td>1.000000</td>\n",
       "    </tr>\n",
       "    <tr>\n",
       "      <th>max</th>\n",
       "      <td>5.000000</td>\n",
       "      <td>5.000000</td>\n",
       "      <td>5.000000</td>\n",
       "      <td>5.000000</td>\n",
       "      <td>5.000000</td>\n",
       "    </tr>\n",
       "  </tbody>\n",
       "</table>\n",
       "</div>"
      ],
      "text/plain": [
       "       CLEANLINESS       SAFETY     ACTIVITY     COURTESY  VISIT AGAIN\n",
       "count  2208.000000  2208.000000  2208.000000  2208.000000  2208.000000\n",
       "mean      1.366120     1.336073     1.290203     1.289733     1.269088\n",
       "std       0.872382     0.852154     0.739927     0.847969     0.837625\n",
       "min       1.000000     1.000000     1.000000     1.000000     1.000000\n",
       "25%       1.000000     1.000000     1.000000     1.000000     1.000000\n",
       "50%       1.000000     1.000000     1.000000     1.000000     1.000000\n",
       "75%       1.000000     1.000000     1.290203     1.000000     1.000000\n",
       "max       5.000000     5.000000     5.000000     5.000000     5.000000"
      ]
     },
     "execution_count": 109,
     "metadata": {},
     "output_type": "execute_result"
    }
   ],
   "source": [
    "data.describe()"
   ]
  },
  {
   "cell_type": "markdown",
   "metadata": {},
   "source": [
    "We can see that the average value in each of the features is close to 1, so most responses to the surveys seems to be positive. We can assume this because there are no outliers in the values that would make the mean unreliable."
   ]
  },
  {
   "cell_type": "code",
   "execution_count": 81,
   "metadata": {},
   "outputs": [
    {
     "data": {
      "image/png": "[encoded data removed]",
      "text/plain": [
       "<Figure size 1440x576 with 16 Axes>"
      ]
     },
     "metadata": {
      "needs_background": "light"
     },
     "output_type": "display_data"
    }
   ],
   "source": [
    "# Let's see the relationship between features and the distribution of each feature.\n",
    "\n",
    "import matplotlib.pyplot as plt\n",
    "\n",
    "pd.plotting.scatter_matrix(data.iloc[:,2:6], figsize=(20,8))\n",
    "plt.show()"
   ]
  },
  {
   "cell_type": "markdown",
   "metadata": {},
   "source": [
    "Here we can see the distribution of each feature which show what we would expect, majority of the people had a good experience in the park. What's interesting is that we don't see much correlation between the features. "
   ]
  },
  {
   "cell_type": "markdown",
   "metadata": {},
   "source": [
    "# Data Analysis & Results"
   ]
  },
  {
   "cell_type": "markdown",
   "metadata": {},
   "source": [
    "Include cells that describe the steps in your data analysis."
   ]
  },
  {
   "cell_type": "code",
   "execution_count": 5,
   "metadata": {},
   "outputs": [],
   "source": [
    "## YOUR CODE HERE\n",
    "## FEEL FREE TO ADD MULTIPLE CELLS PER SECTION"
   ]
  },
  {
   "cell_type": "markdown",
   "metadata": {},
   "source": [
    "# Ethics & Privacy"
   ]
  },
  {
   "cell_type": "markdown",
   "metadata": {},
   "source": [
    "*Fill in your ethics & privacy discussion here*"
   ]
  },
  {
   "cell_type": "markdown",
   "metadata": {},
   "source": [
    "# Conclusion & Discussion"
   ]
  },
  {
   "cell_type": "markdown",
   "metadata": {},
   "source": [
    "*Fill in your discussion information here*"
   ]
  }
 ],
 "metadata": {
  "kernelspec": {
   "display_name": "Python 3",
   "language": "python",
   "name": "python3"
  },
  "language_info": {
   "codemirror_mode": {
    "name": "ipython",
    "version": 3
   },
   "file_extension": ".py",
   "mimetype": "text/x-python",
   "name": "python",
   "nbconvert_exporter": "python",
   "pygments_lexer": "ipython3",
   "version": "3.7.9"
  }
 },
 "nbformat": 4,
 "nbformat_minor": 4
}
