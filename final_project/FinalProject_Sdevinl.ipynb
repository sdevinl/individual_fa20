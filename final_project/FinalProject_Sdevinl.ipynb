{
 "cells": [
  {
   "cell_type": "markdown",
   "metadata": {},
   "source": [
    "# COGS 108 - Project Proposal"
   ]
  },
  {
   "cell_type": "markdown",
   "metadata": {},
   "source": [
    "# Names & GitHub ID\n",
    "\n",
    "- Name: Steven Liu\n",
    "- GitHub Username: sdevinl"
   ]
  },
  {
   "cell_type": "markdown",
   "metadata": {},
   "source": [
    "# Research Question"
   ]
  },
  {
   "cell_type": "markdown",
   "metadata": {},
   "source": [
    "Street food has been popular in America for a long time, and it is still continuing to bloom. Despite this popularity, there has been an idea that among food trucks and sidewalk stands are dirty.\n",
    "\n",
    "Are food trucks, stands, and pushcarts as clean as restaurants?"
   ]
  },
  {
   "cell_type": "markdown",
   "metadata": {},
   "source": [
    "## Background and Prior Work"
   ]
  },
  {
   "cell_type": "markdown",
   "metadata": {},
   "source": [
    "In Boston, street food resulted to be just as safe if not safer than restaraunts according to a report from  Institute for Justice, a non-profit civil liberties law firm. (Reference 1)\n",
    "\n",
    "Street Eats, Safe Eats tests that common, but unsubstantiated claim by reviewing more than 260,000 food-safety inspection reports from seven large American cities and found results where food trucks and carts did as well or even better than restaurants. (Reference 2)\n",
    "\n",
    "Based on the results found in a research report, food trucks and carts actually had about half as many average violations as restaurants. (Reference 3)\n",
    "\n",
    "References:\n",
    "- 1) https://www.bostonmagazine.com/health/2014/06/11/study-food-trucks-cleaner-restaurants/#:~:text=Study%3A%20Food%20Trucks%20are%20Cleaner,not%20cleaner%2C%20than%20many%20restaurants.\n",
    "\n",
    "- 2) https://ij.org/report/street-eats-safe-eats/#:~:text=and%20hurt%20consumers.-,Results,%2Dand%2Dmortar%20food%20establishments.\n",
    "\n",
    "- 3) https://www.eater.com/2014/6/16/6206837/new-study-shows-food-trucks-are-safer-than-restaurants"
   ]
  },
  {
   "cell_type": "markdown",
   "metadata": {},
   "source": [
    "# Hypothesis\n"
   ]
  },
  {
   "cell_type": "markdown",
   "metadata": {},
   "source": [
    "Based on the results from prior work, we can see that food trucks, and carts were just as safe, if not safer than restaraunts. This leads me to believe that after performing my analysis, I would obtain similar results where the food safety scores of food trucks, stands, and pushcarts will be just as high as restaraunts, if not higher. "
   ]
  },
  {
   "cell_type": "markdown",
   "metadata": {},
   "source": [
    "# Data"
   ]
  },
  {
   "cell_type": "markdown",
   "metadata": {},
   "source": [
    "I will be using the inspections.csv file. It contains the information that was recorded from previous inspections. There are 18466 inspections, and for each inspection, they recorded 36 features. Each inspection contains restaurant details that help identify the restaurant and inspector details that list the results of the inspection as well as some results from previous inspections. For example, a few restaurant details are the name, address, facility type, and phone number of the restaurant. Some inspection details would include the inspector name, whether the state of the restaurant is critical, number of previous critical records and the food score. The features contains timestamps for things such as the date of the inspections, and the date that the restaurant opened. Strings for features that contain names and addresses. There will also be numerical values used to record the number of criticals. In this dataset, we will be interested in 3 features. The hsisid as the numerical identifier for a restaurant, the facility type, used to split the data into mobile establishments and restaurants, and score, which is the inspector health score that we will use to measure the safeness of each establishment."
   ]
  },
  {
   "cell_type": "markdown",
   "metadata": {},
   "source": [
    "# Setup"
   ]
  },
  {
   "cell_type": "code",
   "execution_count": 124,
   "metadata": {},
   "outputs": [],
   "source": [
    "import pandas as pd\n",
    "import numpy as np\n",
    "import matplotlib.pyplot as plt \n",
    "import statsmodels.stats.weightstats as stats\n",
    "import seaborn as sns"
   ]
  },
  {
   "cell_type": "code",
   "execution_count": 125,
   "metadata": {},
   "outputs": [],
   "source": [
    "try : \n",
    "    inspections = pd.read_csv('inspections.csv')\n",
    "except:\n",
    "    inspections = pd.read_csv('data/inspections.csv')"
   ]
  },
  {
   "cell_type": "markdown",
   "metadata": {},
   "source": [
    "# Data Cleaning "
   ]
  },
  {
   "cell_type": "code",
   "execution_count": 126,
   "metadata": {},
   "outputs": [
    {
     "data": {
      "text/html": [
       "<div>\n",
       "<style scoped>\n",
       "    .dataframe tbody tr th:only-of-type {\n",
       "        vertical-align: middle;\n",
       "    }\n",
       "\n",
       "    .dataframe tbody tr th {\n",
       "        vertical-align: top;\n",
       "    }\n",
       "\n",
       "    .dataframe thead th {\n",
       "        text-align: right;\n",
       "    }\n",
       "</style>\n",
       "<table border=\"1\" class=\"dataframe\">\n",
       "  <thead>\n",
       "    <tr style=\"text-align: right;\">\n",
       "      <th></th>\n",
       "      <th>hsisid</th>\n",
       "      <th>date</th>\n",
       "      <th>name</th>\n",
       "      <th>address1</th>\n",
       "      <th>address2</th>\n",
       "      <th>city</th>\n",
       "      <th>state</th>\n",
       "      <th>postalcode</th>\n",
       "      <th>phonenumber</th>\n",
       "      <th>restaurantopendate</th>\n",
       "      <th>...</th>\n",
       "      <th>num_non_critical</th>\n",
       "      <th>num_critical_previous</th>\n",
       "      <th>num_non_critical_previous</th>\n",
       "      <th>num_critical_mean_previous</th>\n",
       "      <th>num_non_critical_mean_previous</th>\n",
       "      <th>avg_neighbor_num_critical</th>\n",
       "      <th>avg_neighbor_num_non_critical</th>\n",
       "      <th>top_match</th>\n",
       "      <th>second_match</th>\n",
       "      <th>critical</th>\n",
       "    </tr>\n",
       "  </thead>\n",
       "  <tbody>\n",
       "    <tr>\n",
       "      <th>0</th>\n",
       "      <td>4092013748</td>\n",
       "      <td>2012-09-21T00:00:00Z</td>\n",
       "      <td>Cafe 3000 At Wake Med</td>\n",
       "      <td>3000 New Bern Ave</td>\n",
       "      <td>NaN</td>\n",
       "      <td>raleigh</td>\n",
       "      <td>NC</td>\n",
       "      <td>27610</td>\n",
       "      <td>(919) 350-8047</td>\n",
       "      <td>2002-12-21T00:00:00Z</td>\n",
       "      <td>...</td>\n",
       "      <td>7</td>\n",
       "      <td>NaN</td>\n",
       "      <td>NaN</td>\n",
       "      <td>NaN</td>\n",
       "      <td>NaN</td>\n",
       "      <td>NaN</td>\n",
       "      <td>NaN</td>\n",
       "      <td>NaN</td>\n",
       "      <td>NaN</td>\n",
       "      <td>1</td>\n",
       "    </tr>\n",
       "    <tr>\n",
       "      <th>1</th>\n",
       "      <td>4092014046</td>\n",
       "      <td>2012-09-21T00:00:00Z</td>\n",
       "      <td>Overtime Sports Pub</td>\n",
       "      <td>1030-149 N Rogers Ln</td>\n",
       "      <td>NaN</td>\n",
       "      <td>raleigh</td>\n",
       "      <td>NC</td>\n",
       "      <td>27610</td>\n",
       "      <td>(919) 255-9556</td>\n",
       "      <td>2004-05-04T00:00:00Z</td>\n",
       "      <td>...</td>\n",
       "      <td>11</td>\n",
       "      <td>NaN</td>\n",
       "      <td>NaN</td>\n",
       "      <td>NaN</td>\n",
       "      <td>NaN</td>\n",
       "      <td>NaN</td>\n",
       "      <td>NaN</td>\n",
       "      <td>NaN</td>\n",
       "      <td>NaN</td>\n",
       "      <td>0</td>\n",
       "    </tr>\n",
       "    <tr>\n",
       "      <th>2</th>\n",
       "      <td>4092015191</td>\n",
       "      <td>2012-09-21T00:00:00Z</td>\n",
       "      <td>TASTE OF CHINA</td>\n",
       "      <td>6209 ROCK QUARRY RD</td>\n",
       "      <td>STE 126</td>\n",
       "      <td>raleigh</td>\n",
       "      <td>NC</td>\n",
       "      <td>27610</td>\n",
       "      <td>(919) 773-2285</td>\n",
       "      <td>2008-08-04T00:00:00Z</td>\n",
       "      <td>...</td>\n",
       "      <td>8</td>\n",
       "      <td>NaN</td>\n",
       "      <td>NaN</td>\n",
       "      <td>NaN</td>\n",
       "      <td>NaN</td>\n",
       "      <td>NaN</td>\n",
       "      <td>NaN</td>\n",
       "      <td>NaN</td>\n",
       "      <td>NaN</td>\n",
       "      <td>1</td>\n",
       "    </tr>\n",
       "    <tr>\n",
       "      <th>3</th>\n",
       "      <td>4092016122</td>\n",
       "      <td>2012-09-21T00:00:00Z</td>\n",
       "      <td>Panera Bread #1643</td>\n",
       "      <td>1065 Darrington DR</td>\n",
       "      <td>NaN</td>\n",
       "      <td>cary</td>\n",
       "      <td>NC</td>\n",
       "      <td>27513</td>\n",
       "      <td>NaN</td>\n",
       "      <td>2012-03-28T00:00:00Z</td>\n",
       "      <td>...</td>\n",
       "      <td>3</td>\n",
       "      <td>NaN</td>\n",
       "      <td>NaN</td>\n",
       "      <td>NaN</td>\n",
       "      <td>NaN</td>\n",
       "      <td>NaN</td>\n",
       "      <td>NaN</td>\n",
       "      <td>NaN</td>\n",
       "      <td>NaN</td>\n",
       "      <td>1</td>\n",
       "    </tr>\n",
       "    <tr>\n",
       "      <th>4</th>\n",
       "      <td>4092021513</td>\n",
       "      <td>2012-09-21T00:00:00Z</td>\n",
       "      <td>WalMart Supercenter #4499-00 Deli/Bakery</td>\n",
       "      <td>841 E Gannon AVE</td>\n",
       "      <td>NaN</td>\n",
       "      <td>zebulon</td>\n",
       "      <td>NC</td>\n",
       "      <td>27597</td>\n",
       "      <td>(919) 269-2221 ext. 304</td>\n",
       "      <td>2008-02-25T00:00:00Z</td>\n",
       "      <td>...</td>\n",
       "      <td>4</td>\n",
       "      <td>NaN</td>\n",
       "      <td>NaN</td>\n",
       "      <td>NaN</td>\n",
       "      <td>NaN</td>\n",
       "      <td>NaN</td>\n",
       "      <td>NaN</td>\n",
       "      <td>NaN</td>\n",
       "      <td>NaN</td>\n",
       "      <td>1</td>\n",
       "    </tr>\n",
       "  </tbody>\n",
       "</table>\n",
       "<p>5 rows × 36 columns</p>\n",
       "</div>"
      ],
      "text/plain": [
       "       hsisid                  date                                      name  \\\n",
       "0  4092013748  2012-09-21T00:00:00Z                     Cafe 3000 At Wake Med   \n",
       "1  4092014046  2012-09-21T00:00:00Z                       Overtime Sports Pub   \n",
       "2  4092015191  2012-09-21T00:00:00Z                            TASTE OF CHINA   \n",
       "3  4092016122  2012-09-21T00:00:00Z                        Panera Bread #1643   \n",
       "4  4092021513  2012-09-21T00:00:00Z  WalMart Supercenter #4499-00 Deli/Bakery   \n",
       "\n",
       "               address1 address2     city state postalcode  \\\n",
       "0     3000 New Bern Ave      NaN  raleigh    NC      27610   \n",
       "1  1030-149 N Rogers Ln      NaN  raleigh    NC      27610   \n",
       "2   6209 ROCK QUARRY RD  STE 126  raleigh    NC      27610   \n",
       "3    1065 Darrington DR      NaN     cary    NC      27513   \n",
       "4      841 E Gannon AVE      NaN  zebulon    NC      27597   \n",
       "\n",
       "               phonenumber    restaurantopendate  ...  num_non_critical  \\\n",
       "0           (919) 350-8047  2002-12-21T00:00:00Z  ...                 7   \n",
       "1           (919) 255-9556  2004-05-04T00:00:00Z  ...                11   \n",
       "2           (919) 773-2285  2008-08-04T00:00:00Z  ...                 8   \n",
       "3                      NaN  2012-03-28T00:00:00Z  ...                 3   \n",
       "4  (919) 269-2221 ext. 304  2008-02-25T00:00:00Z  ...                 4   \n",
       "\n",
       "  num_critical_previous  num_non_critical_previous  \\\n",
       "0                   NaN                        NaN   \n",
       "1                   NaN                        NaN   \n",
       "2                   NaN                        NaN   \n",
       "3                   NaN                        NaN   \n",
       "4                   NaN                        NaN   \n",
       "\n",
       "   num_critical_mean_previous num_non_critical_mean_previous  \\\n",
       "0                         NaN                            NaN   \n",
       "1                         NaN                            NaN   \n",
       "2                         NaN                            NaN   \n",
       "3                         NaN                            NaN   \n",
       "4                         NaN                            NaN   \n",
       "\n",
       "   avg_neighbor_num_critical avg_neighbor_num_non_critical top_match  \\\n",
       "0                        NaN                           NaN       NaN   \n",
       "1                        NaN                           NaN       NaN   \n",
       "2                        NaN                           NaN       NaN   \n",
       "3                        NaN                           NaN       NaN   \n",
       "4                        NaN                           NaN       NaN   \n",
       "\n",
       "  second_match  critical  \n",
       "0          NaN         1  \n",
       "1          NaN         0  \n",
       "2          NaN         1  \n",
       "3          NaN         1  \n",
       "4          NaN         1  \n",
       "\n",
       "[5 rows x 36 columns]"
      ]
     },
     "execution_count": 126,
     "metadata": {},
     "output_type": "execute_result"
    }
   ],
   "source": [
    "inspections.shape\n",
    "inspections.head()"
   ]
  },
  {
   "cell_type": "markdown",
   "metadata": {},
   "source": [
    "We can see there 18466 rows and 36 features in the data."
   ]
  },
  {
   "cell_type": "code",
   "execution_count": 127,
   "metadata": {},
   "outputs": [
    {
     "data": {
      "text/plain": [
       "Index(['hsisid', 'date', 'name', 'address1', 'address2', 'city', 'state',\n",
       "       'postalcode', 'phonenumber', 'restaurantopendate',\n",
       "       'days_from_open_date', 'facilitytype', 'x', 'y', 'geocodestatus', 'zip',\n",
       "       'type', 'description', 'inspectedby', 'inspection_num', 'inspector_id',\n",
       "       'previous_inspection_date', 'days_since_previous_inspection',\n",
       "       'previous_inspection_by_same_inspector', 'score', 'num_critical',\n",
       "       'num_non_critical', 'num_critical_previous',\n",
       "       'num_non_critical_previous', 'num_critical_mean_previous',\n",
       "       'num_non_critical_mean_previous', 'avg_neighbor_num_critical',\n",
       "       'avg_neighbor_num_non_critical', 'top_match', 'second_match',\n",
       "       'critical'],\n",
       "      dtype='object')"
      ]
     },
     "execution_count": 127,
     "metadata": {},
     "output_type": "execute_result"
    }
   ],
   "source": [
    "inspections.columns"
   ]
  },
  {
   "cell_type": "code",
   "execution_count": 128,
   "metadata": {},
   "outputs": [
    {
     "data": {
      "text/plain": [
       "array(['Restaurant', 'Food Stand', 'Public School Lunchrooms',\n",
       "       'Institutional Food Service', 'Meat Market',\n",
       "       'Private School Lunchrooms', 'Elderly Nutrition Sites (catered)',\n",
       "       'Mobile Food Units', 'Pushcarts', 'Limited Food Service'],\n",
       "      dtype=object)"
      ]
     },
     "execution_count": 128,
     "metadata": {},
     "output_type": "execute_result"
    }
   ],
   "source": [
    "inspections['facilitytype'].unique()"
   ]
  },
  {
   "cell_type": "markdown",
   "metadata": {},
   "source": [
    "There are many facility types that are not related to our analysis. We will filter them now, so we can process the data quicker later on."
   ]
  },
  {
   "cell_type": "code",
   "execution_count": 129,
   "metadata": {},
   "outputs": [
    {
     "data": {
      "text/plain": [
       "array(['Restaurant', 'Food Stand', 'Mobile Food Units', 'Pushcarts'],\n",
       "      dtype=object)"
      ]
     },
     "execution_count": 129,
     "metadata": {},
     "output_type": "execute_result"
    }
   ],
   "source": [
    "target_types = ['Mobile Food Units', 'Pushcarts', 'Food Stand', 'Restaurant']\n",
    "data = inspections[(inspections['facilitytype'].isin(target_types))]\n",
    "data['facilitytype'].unique()"
   ]
  },
  {
   "cell_type": "markdown",
   "metadata": {},
   "source": [
    "Based on my research question, I am only interested in 3 features. The hsisid because it is the identifier of each establishment, score because it will be used as a measurement for the safety of an establishment, and facility type as it will be used to seperate the two groups of data. "
   ]
  },
  {
   "cell_type": "code",
   "execution_count": 130,
   "metadata": {},
   "outputs": [
    {
     "data": {
      "text/html": [
       "<div>\n",
       "<style scoped>\n",
       "    .dataframe tbody tr th:only-of-type {\n",
       "        vertical-align: middle;\n",
       "    }\n",
       "\n",
       "    .dataframe tbody tr th {\n",
       "        vertical-align: top;\n",
       "    }\n",
       "\n",
       "    .dataframe thead th {\n",
       "        text-align: right;\n",
       "    }\n",
       "</style>\n",
       "<table border=\"1\" class=\"dataframe\">\n",
       "  <thead>\n",
       "    <tr style=\"text-align: right;\">\n",
       "      <th></th>\n",
       "      <th>hsisid</th>\n",
       "      <th>score</th>\n",
       "      <th>facilitytype</th>\n",
       "    </tr>\n",
       "  </thead>\n",
       "  <tbody>\n",
       "    <tr>\n",
       "      <th>2923</th>\n",
       "      <td>4092010018</td>\n",
       "      <td>94.5</td>\n",
       "      <td>Restaurant</td>\n",
       "    </tr>\n",
       "    <tr>\n",
       "      <th>15404</th>\n",
       "      <td>4092010018</td>\n",
       "      <td>91.5</td>\n",
       "      <td>Restaurant</td>\n",
       "    </tr>\n",
       "    <tr>\n",
       "      <th>12545</th>\n",
       "      <td>4092010018</td>\n",
       "      <td>94.5</td>\n",
       "      <td>Restaurant</td>\n",
       "    </tr>\n",
       "    <tr>\n",
       "      <th>8941</th>\n",
       "      <td>4092010018</td>\n",
       "      <td>91.0</td>\n",
       "      <td>Restaurant</td>\n",
       "    </tr>\n",
       "    <tr>\n",
       "      <th>6103</th>\n",
       "      <td>4092010018</td>\n",
       "      <td>97.5</td>\n",
       "      <td>Restaurant</td>\n",
       "    </tr>\n",
       "  </tbody>\n",
       "</table>\n",
       "</div>"
      ],
      "text/plain": [
       "           hsisid  score facilitytype\n",
       "2923   4092010018   94.5   Restaurant\n",
       "15404  4092010018   91.5   Restaurant\n",
       "12545  4092010018   94.5   Restaurant\n",
       "8941   4092010018   91.0   Restaurant\n",
       "6103   4092010018   97.5   Restaurant"
      ]
     },
     "execution_count": 130,
     "metadata": {},
     "output_type": "execute_result"
    }
   ],
   "source": [
    "data = data[['hsisid', 'score', 'facilitytype']].sort_values(by='hsisid', ascending=True)\n",
    "data.head()"
   ]
  },
  {
   "cell_type": "markdown",
   "metadata": {},
   "source": [
    "Here, we can get a sense of the average food score among facility types."
   ]
  },
  {
   "cell_type": "code",
   "execution_count": 131,
   "metadata": {},
   "outputs": [
    {
     "data": {
      "text/html": [
       "<div>\n",
       "<style scoped>\n",
       "    .dataframe tbody tr th:only-of-type {\n",
       "        vertical-align: middle;\n",
       "    }\n",
       "\n",
       "    .dataframe tbody tr th {\n",
       "        vertical-align: top;\n",
       "    }\n",
       "\n",
       "    .dataframe thead th {\n",
       "        text-align: right;\n",
       "    }\n",
       "</style>\n",
       "<table border=\"1\" class=\"dataframe\">\n",
       "  <thead>\n",
       "    <tr style=\"text-align: right;\">\n",
       "      <th></th>\n",
       "      <th>facilitytype</th>\n",
       "      <th>score</th>\n",
       "    </tr>\n",
       "  </thead>\n",
       "  <tbody>\n",
       "    <tr>\n",
       "      <th>0</th>\n",
       "      <td>Food Stand</td>\n",
       "      <td>96.828620</td>\n",
       "    </tr>\n",
       "    <tr>\n",
       "      <th>1</th>\n",
       "      <td>Mobile Food Units</td>\n",
       "      <td>97.112676</td>\n",
       "    </tr>\n",
       "    <tr>\n",
       "      <th>2</th>\n",
       "      <td>Pushcarts</td>\n",
       "      <td>98.106299</td>\n",
       "    </tr>\n",
       "    <tr>\n",
       "      <th>3</th>\n",
       "      <td>Restaurant</td>\n",
       "      <td>95.665582</td>\n",
       "    </tr>\n",
       "  </tbody>\n",
       "</table>\n",
       "</div>"
      ],
      "text/plain": [
       "        facilitytype      score\n",
       "0         Food Stand  96.828620\n",
       "1  Mobile Food Units  97.112676\n",
       "2          Pushcarts  98.106299\n",
       "3         Restaurant  95.665582"
      ]
     },
     "execution_count": 131,
     "metadata": {},
     "output_type": "execute_result"
    }
   ],
   "source": [
    "data.groupby(['facilitytype']).mean()['score'].reset_index()"
   ]
  },
  {
   "cell_type": "markdown",
   "metadata": {},
   "source": [
    "The average scores among the facility types are pretty close which matches our hypothesis."
   ]
  },
  {
   "cell_type": "markdown",
   "metadata": {},
   "source": [
    "Knowing that each row is an inspection, we expect that establishments will be inspected multiple times. This will lead to duplicate hsisid values in the dataset. We take the average of all food scores for each establishment to use in our analysis."
   ]
  },
  {
   "cell_type": "code",
   "execution_count": 132,
   "metadata": {},
   "outputs": [
    {
     "data": {
      "text/html": [
       "<div>\n",
       "<style scoped>\n",
       "    .dataframe tbody tr th:only-of-type {\n",
       "        vertical-align: middle;\n",
       "    }\n",
       "\n",
       "    .dataframe tbody tr th {\n",
       "        vertical-align: top;\n",
       "    }\n",
       "\n",
       "    .dataframe thead th {\n",
       "        text-align: right;\n",
       "    }\n",
       "</style>\n",
       "<table border=\"1\" class=\"dataframe\">\n",
       "  <thead>\n",
       "    <tr style=\"text-align: right;\">\n",
       "      <th></th>\n",
       "      <th>hsisid</th>\n",
       "      <th>facilitytype</th>\n",
       "      <th>score</th>\n",
       "    </tr>\n",
       "  </thead>\n",
       "  <tbody>\n",
       "    <tr>\n",
       "      <th>0</th>\n",
       "      <td>4092010018</td>\n",
       "      <td>Restaurant</td>\n",
       "      <td>94.333333</td>\n",
       "    </tr>\n",
       "    <tr>\n",
       "      <th>1</th>\n",
       "      <td>4092010024</td>\n",
       "      <td>Restaurant</td>\n",
       "      <td>94.772727</td>\n",
       "    </tr>\n",
       "    <tr>\n",
       "      <th>2</th>\n",
       "      <td>4092010031</td>\n",
       "      <td>Restaurant</td>\n",
       "      <td>94.375000</td>\n",
       "    </tr>\n",
       "    <tr>\n",
       "      <th>3</th>\n",
       "      <td>4092010035</td>\n",
       "      <td>Restaurant</td>\n",
       "      <td>94.500000</td>\n",
       "    </tr>\n",
       "    <tr>\n",
       "      <th>4</th>\n",
       "      <td>4092010037</td>\n",
       "      <td>Restaurant</td>\n",
       "      <td>96.400000</td>\n",
       "    </tr>\n",
       "    <tr>\n",
       "      <th>...</th>\n",
       "      <td>...</td>\n",
       "      <td>...</td>\n",
       "      <td>...</td>\n",
       "    </tr>\n",
       "    <tr>\n",
       "      <th>2716</th>\n",
       "      <td>4092040329</td>\n",
       "      <td>Pushcarts</td>\n",
       "      <td>98.000000</td>\n",
       "    </tr>\n",
       "    <tr>\n",
       "      <th>2717</th>\n",
       "      <td>4092040332</td>\n",
       "      <td>Pushcarts</td>\n",
       "      <td>99.250000</td>\n",
       "    </tr>\n",
       "    <tr>\n",
       "      <th>2718</th>\n",
       "      <td>4092040335</td>\n",
       "      <td>Pushcarts</td>\n",
       "      <td>97.000000</td>\n",
       "    </tr>\n",
       "    <tr>\n",
       "      <th>2719</th>\n",
       "      <td>4092040336</td>\n",
       "      <td>Pushcarts</td>\n",
       "      <td>99.500000</td>\n",
       "    </tr>\n",
       "    <tr>\n",
       "      <th>2720</th>\n",
       "      <td>4092040340</td>\n",
       "      <td>Pushcarts</td>\n",
       "      <td>96.500000</td>\n",
       "    </tr>\n",
       "  </tbody>\n",
       "</table>\n",
       "<p>2721 rows × 3 columns</p>\n",
       "</div>"
      ],
      "text/plain": [
       "          hsisid facilitytype      score\n",
       "0     4092010018   Restaurant  94.333333\n",
       "1     4092010024   Restaurant  94.772727\n",
       "2     4092010031   Restaurant  94.375000\n",
       "3     4092010035   Restaurant  94.500000\n",
       "4     4092010037   Restaurant  96.400000\n",
       "...          ...          ...        ...\n",
       "2716  4092040329    Pushcarts  98.000000\n",
       "2717  4092040332    Pushcarts  99.250000\n",
       "2718  4092040335    Pushcarts  97.000000\n",
       "2719  4092040336    Pushcarts  99.500000\n",
       "2720  4092040340    Pushcarts  96.500000\n",
       "\n",
       "[2721 rows x 3 columns]"
      ]
     },
     "execution_count": 132,
     "metadata": {},
     "output_type": "execute_result"
    }
   ],
   "source": [
    "grouped_data = data.groupby(['hsisid', 'facilitytype']).mean().reset_index()\n",
    "grouped_data"
   ]
  },
  {
   "cell_type": "markdown",
   "metadata": {},
   "source": [
    "After grouping the data, and filtering facility types, we are left with 2721 rows of data."
   ]
  },
  {
   "cell_type": "markdown",
   "metadata": {},
   "source": [
    "# Data Analysis & Results"
   ]
  },
  {
   "cell_type": "markdown",
   "metadata": {},
   "source": [
    "### EDA"
   ]
  },
  {
   "cell_type": "markdown",
   "metadata": {},
   "source": [
    "Let's look at the distribution among facility types"
   ]
  },
  {
   "cell_type": "code",
   "execution_count": 133,
   "metadata": {},
   "outputs": [
    {
     "data": {
      "image/png": "[encoded data removed]",
      "text/plain": [
       "<Figure size 1008x576 with 4 Axes>"
      ]
     },
     "metadata": {
      "needs_background": "light"
     },
     "output_type": "display_data"
    }
   ],
   "source": [
    "# Initiate Plot\n",
    "fig = plt.figure(figsize=(14,8))\n",
    "fig_num = 220\n",
    "\n",
    "for target in target_types:\n",
    "    fig_num += 1\n",
    "    ax = fig.add_subplot(fig_num)\n",
    "    \n",
    "    if target == 'Restaurant':\n",
    "        color = 'red'\n",
    "    else:\n",
    "        color = 'blue'\n",
    "\n",
    "    sns.distplot(data[data['facilitytype'] == target]['score'], color=color)\n",
    "    \n",
    "    plt.title(target)\n",
    "    plt.xlabel('Score')\n",
    "    plt.ylabel('Count')\n",
    "    plt.tight_layout()"
   ]
  },
  {
   "cell_type": "markdown",
   "metadata": {},
   "source": [
    "Since we're more interested in assocating all mobile establishments, let's explore what the data looks like then."
   ]
  },
  {
   "cell_type": "code",
   "execution_count": 134,
   "metadata": {},
   "outputs": [
    {
     "data": {
      "image/png": "[encoded data removed]",
      "text/plain": [
       "<Figure size 1008x576 with 2 Axes>"
      ]
     },
     "metadata": {
      "needs_background": "light"
     },
     "output_type": "display_data"
    }
   ],
   "source": [
    "mobile = ['Mobile Food Units', 'Food Stand', 'Pushcarts']\n",
    "grouped_types = [['Restaurant'], mobile]\n",
    "\n",
    "# Initiate Plot\n",
    "fig = plt.figure(figsize=(14,8))\n",
    "fig_num = 120\n",
    "\n",
    "for target in grouped_types:\n",
    "    fig_num += 1\n",
    "    ax = fig.add_subplot(fig_num)\n",
    "    \n",
    "    if fig_num == 121:\n",
    "        target[0] = 'Restaurant'\n",
    "    else:\n",
    "        target[0] = 'Mobile'\n",
    "    \n",
    "    if target[0] == 'Restaurant':\n",
    "        color = 'red'\n",
    "    else:\n",
    "        color = 'blue'\n",
    "\n",
    "    sns.distplot(data[data['facilitytype'].isin(target)]['score'], color=color, bins=30)\n",
    "    \n",
    "    plt.title(target[0])\n",
    "    plt.xlabel('Score')\n",
    "    plt.ylabel('Count')\n",
    "    plt.tight_layout()"
   ]
  },
  {
   "cell_type": "markdown",
   "metadata": {},
   "source": [
    "We can see the distribution between the two groups are very similar."
   ]
  },
  {
   "cell_type": "code",
   "execution_count": 135,
   "metadata": {},
   "outputs": [
    {
     "data": {
      "image/png": "[encoded data removed]",
      "text/plain": [
       "<Figure size 1008x576 with 2 Axes>"
      ]
     },
     "metadata": {
      "needs_background": "light"
     },
     "output_type": "display_data"
    }
   ],
   "source": [
    "# Initiate Plot\n",
    "fig = plt.figure(figsize=(14,8))\n",
    "fig_num = 120\n",
    "\n",
    "for target in grouped_types:\n",
    "    fig_num += 1\n",
    "    ax = fig.add_subplot(fig_num)\n",
    "    \n",
    "    if fig_num == 121:\n",
    "        target[0] = 'Restaurant'\n",
    "    else:\n",
    "        target[0] = 'Mobile'\n",
    "    \n",
    "    if target[0] == 'Restaurant':\n",
    "        color = 'red'\n",
    "    else:\n",
    "        color = 'blue'\n",
    "\n",
    "    sns.boxplot(data[data['facilitytype'].isin(target)]['score'], color=color)\n",
    "    \n",
    "    plt.title(target[0] )\n",
    "    plt.xlabel('Score')\n",
    "    plt.tight_layout()"
   ]
  },
  {
   "cell_type": "markdown",
   "metadata": {},
   "source": [
    "We can see there are some outliers, let's see exactly how many."
   ]
  },
  {
   "cell_type": "code",
   "execution_count": 136,
   "metadata": {},
   "outputs": [
    {
     "name": "stdout",
     "output_type": "stream",
     "text": [
      "(11985, 3)\n"
     ]
    },
    {
     "data": {
      "text/html": [
       "<div>\n",
       "<style scoped>\n",
       "    .dataframe tbody tr th:only-of-type {\n",
       "        vertical-align: middle;\n",
       "    }\n",
       "\n",
       "    .dataframe tbody tr th {\n",
       "        vertical-align: top;\n",
       "    }\n",
       "\n",
       "    .dataframe thead th {\n",
       "        text-align: right;\n",
       "    }\n",
       "</style>\n",
       "<table border=\"1\" class=\"dataframe\">\n",
       "  <thead>\n",
       "    <tr style=\"text-align: right;\">\n",
       "      <th></th>\n",
       "      <th>hsisid</th>\n",
       "      <th>score</th>\n",
       "      <th>facilitytype</th>\n",
       "    </tr>\n",
       "  </thead>\n",
       "  <tbody>\n",
       "    <tr>\n",
       "      <th>12998</th>\n",
       "      <td>4092010236</td>\n",
       "      <td>88.0</td>\n",
       "      <td>Restaurant</td>\n",
       "    </tr>\n",
       "    <tr>\n",
       "      <th>10735</th>\n",
       "      <td>4092010237</td>\n",
       "      <td>88.0</td>\n",
       "      <td>Restaurant</td>\n",
       "    </tr>\n",
       "    <tr>\n",
       "      <th>4694</th>\n",
       "      <td>4092010343</td>\n",
       "      <td>88.0</td>\n",
       "      <td>Restaurant</td>\n",
       "    </tr>\n",
       "    <tr>\n",
       "      <th>11598</th>\n",
       "      <td>4092010564</td>\n",
       "      <td>88.5</td>\n",
       "      <td>Restaurant</td>\n",
       "    </tr>\n",
       "    <tr>\n",
       "      <th>9975</th>\n",
       "      <td>4092010574</td>\n",
       "      <td>88.0</td>\n",
       "      <td>Restaurant</td>\n",
       "    </tr>\n",
       "    <tr>\n",
       "      <th>...</th>\n",
       "      <td>...</td>\n",
       "      <td>...</td>\n",
       "      <td>...</td>\n",
       "    </tr>\n",
       "    <tr>\n",
       "      <th>18361</th>\n",
       "      <td>4092017135</td>\n",
       "      <td>80.0</td>\n",
       "      <td>Restaurant</td>\n",
       "    </tr>\n",
       "    <tr>\n",
       "      <th>16721</th>\n",
       "      <td>4092017175</td>\n",
       "      <td>76.0</td>\n",
       "      <td>Restaurant</td>\n",
       "    </tr>\n",
       "    <tr>\n",
       "      <th>16771</th>\n",
       "      <td>4092017176</td>\n",
       "      <td>84.0</td>\n",
       "      <td>Restaurant</td>\n",
       "    </tr>\n",
       "    <tr>\n",
       "      <th>16731</th>\n",
       "      <td>4092017188</td>\n",
       "      <td>84.0</td>\n",
       "      <td>Restaurant</td>\n",
       "    </tr>\n",
       "    <tr>\n",
       "      <th>17725</th>\n",
       "      <td>4092017230</td>\n",
       "      <td>88.0</td>\n",
       "      <td>Restaurant</td>\n",
       "    </tr>\n",
       "  </tbody>\n",
       "</table>\n",
       "<p>254 rows × 3 columns</p>\n",
       "</div>"
      ],
      "text/plain": [
       "           hsisid  score facilitytype\n",
       "12998  4092010236   88.0   Restaurant\n",
       "10735  4092010237   88.0   Restaurant\n",
       "4694   4092010343   88.0   Restaurant\n",
       "11598  4092010564   88.5   Restaurant\n",
       "9975   4092010574   88.0   Restaurant\n",
       "...           ...    ...          ...\n",
       "18361  4092017135   80.0   Restaurant\n",
       "16721  4092017175   76.0   Restaurant\n",
       "16771  4092017176   84.0   Restaurant\n",
       "16731  4092017188   84.0   Restaurant\n",
       "17725  4092017230   88.0   Restaurant\n",
       "\n",
       "[254 rows x 3 columns]"
      ]
     },
     "execution_count": 136,
     "metadata": {},
     "output_type": "execute_result"
    }
   ],
   "source": [
    "rest_data = data[data['facilitytype'] == 'Restaurant']\n",
    "print(rest_data.shape)\n",
    "rest_outliers = rest_data[rest_data['score'] < 90]\n",
    "rest_dropped_outliers = rest_data[rest_data['score'] > 90]\n",
    "rest_outliers"
   ]
  },
  {
   "cell_type": "markdown",
   "metadata": {},
   "source": [
    "Of the 11985 restaurants, there are 254 outliers. This is about 2% of the restaurants."
   ]
  },
  {
   "cell_type": "code",
   "execution_count": 137,
   "metadata": {},
   "outputs": [
    {
     "name": "stdout",
     "output_type": "stream",
     "text": [
      "(3380, 3)\n"
     ]
    },
    {
     "data": {
      "text/html": [
       "<div>\n",
       "<style scoped>\n",
       "    .dataframe tbody tr th:only-of-type {\n",
       "        vertical-align: middle;\n",
       "    }\n",
       "\n",
       "    .dataframe tbody tr th {\n",
       "        vertical-align: top;\n",
       "    }\n",
       "\n",
       "    .dataframe thead th {\n",
       "        text-align: right;\n",
       "    }\n",
       "</style>\n",
       "<table border=\"1\" class=\"dataframe\">\n",
       "  <thead>\n",
       "    <tr style=\"text-align: right;\">\n",
       "      <th></th>\n",
       "      <th>hsisid</th>\n",
       "      <th>score</th>\n",
       "      <th>facilitytype</th>\n",
       "    </tr>\n",
       "  </thead>\n",
       "  <tbody>\n",
       "    <tr>\n",
       "      <th>16696</th>\n",
       "      <td>4092020040</td>\n",
       "      <td>91.0</td>\n",
       "      <td>Food Stand</td>\n",
       "    </tr>\n",
       "    <tr>\n",
       "      <th>6008</th>\n",
       "      <td>4092020045</td>\n",
       "      <td>91.5</td>\n",
       "      <td>Food Stand</td>\n",
       "    </tr>\n",
       "    <tr>\n",
       "      <th>1379</th>\n",
       "      <td>4092020045</td>\n",
       "      <td>92.0</td>\n",
       "      <td>Food Stand</td>\n",
       "    </tr>\n",
       "    <tr>\n",
       "      <th>15901</th>\n",
       "      <td>4092020119</td>\n",
       "      <td>92.0</td>\n",
       "      <td>Food Stand</td>\n",
       "    </tr>\n",
       "    <tr>\n",
       "      <th>12906</th>\n",
       "      <td>4092020119</td>\n",
       "      <td>90.0</td>\n",
       "      <td>Food Stand</td>\n",
       "    </tr>\n",
       "    <tr>\n",
       "      <th>...</th>\n",
       "      <td>...</td>\n",
       "      <td>...</td>\n",
       "      <td>...</td>\n",
       "    </tr>\n",
       "    <tr>\n",
       "      <th>16163</th>\n",
       "      <td>4092021934</td>\n",
       "      <td>92.0</td>\n",
       "      <td>Food Stand</td>\n",
       "    </tr>\n",
       "    <tr>\n",
       "      <th>18202</th>\n",
       "      <td>4092021937</td>\n",
       "      <td>91.0</td>\n",
       "      <td>Food Stand</td>\n",
       "    </tr>\n",
       "    <tr>\n",
       "      <th>16189</th>\n",
       "      <td>4092021939</td>\n",
       "      <td>92.0</td>\n",
       "      <td>Food Stand</td>\n",
       "    </tr>\n",
       "    <tr>\n",
       "      <th>18065</th>\n",
       "      <td>4092021964</td>\n",
       "      <td>87.0</td>\n",
       "      <td>Food Stand</td>\n",
       "    </tr>\n",
       "    <tr>\n",
       "      <th>10464</th>\n",
       "      <td>4092040137</td>\n",
       "      <td>89.0</td>\n",
       "      <td>Pushcarts</td>\n",
       "    </tr>\n",
       "  </tbody>\n",
       "</table>\n",
       "<p>162 rows × 3 columns</p>\n",
       "</div>"
      ],
      "text/plain": [
       "           hsisid  score facilitytype\n",
       "16696  4092020040   91.0   Food Stand\n",
       "6008   4092020045   91.5   Food Stand\n",
       "1379   4092020045   92.0   Food Stand\n",
       "15901  4092020119   92.0   Food Stand\n",
       "12906  4092020119   90.0   Food Stand\n",
       "...           ...    ...          ...\n",
       "16163  4092021934   92.0   Food Stand\n",
       "18202  4092021937   91.0   Food Stand\n",
       "16189  4092021939   92.0   Food Stand\n",
       "18065  4092021964   87.0   Food Stand\n",
       "10464  4092040137   89.0    Pushcarts\n",
       "\n",
       "[162 rows x 3 columns]"
      ]
     },
     "execution_count": 137,
     "metadata": {},
     "output_type": "execute_result"
    }
   ],
   "source": [
    "mobi_data = data[data['facilitytype'].isin(mobile)]\n",
    "print(mobi_data.shape)\n",
    "mobi_outliers = mobi_data[mobi_data['score'] < 92.5]\n",
    "mobi_dropped_outliers = mobi_data[mobi_data['score'] > 92.5]\n",
    "mobi_outliers"
   ]
  },
  {
   "cell_type": "markdown",
   "metadata": {},
   "source": [
    "Of the 3593 mobiles, there are 175 outliers. This is about 5% of the mobiles."
   ]
  },
  {
   "cell_type": "markdown",
   "metadata": {},
   "source": [
    "I consider these a small sample of the dataset, so I will be dropping the outliers to continue my analysis."
   ]
  },
  {
   "cell_type": "markdown",
   "metadata": {},
   "source": [
    "Creating the same plots above without the outliers:"
   ]
  },
  {
   "cell_type": "code",
   "execution_count": 138,
   "metadata": {},
   "outputs": [
    {
     "data": {
      "image/png": "[encoded data removed]",
      "text/plain": [
       "<Figure size 1008x576 with 2 Axes>"
      ]
     },
     "metadata": {
      "needs_background": "light"
     },
     "output_type": "display_data"
    }
   ],
   "source": [
    "grouped_types = [['Restaurant'], mobile]\n",
    "\n",
    "# Initiate Plot\n",
    "fig = plt.figure(figsize=(14,8))\n",
    "fig_num = 120\n",
    "\n",
    "for frame in [rest_dropped_outliers, mobi_dropped_outliers]:\n",
    "    fig_num += 1\n",
    "    ax = fig.add_subplot(fig_num)\n",
    "    \n",
    "    if fig_num == 121:\n",
    "        target[0] = 'Restaurant'\n",
    "    else:\n",
    "        target[0] = 'Mobile'\n",
    "        \n",
    "    if target[0] == 'Restaurant':\n",
    "        color = 'red'\n",
    "    else:\n",
    "        color = 'blue'\n",
    "\n",
    "    sns.distplot(frame['score'], color=color, bins=15)\n",
    "    \n",
    "    plt.title(target[0])\n",
    "    plt.xlabel('Score')\n",
    "    plt.ylabel('Count')\n",
    "    plt.tight_layout()"
   ]
  },
  {
   "cell_type": "markdown",
   "metadata": {},
   "source": [
    "We can see that mobiles scores and centered higher than restaurants. This means that the scores of mobiles are generally higher than those of restaurants."
   ]
  },
  {
   "cell_type": "code",
   "execution_count": 139,
   "metadata": {},
   "outputs": [
    {
     "data": {
      "image/png": "[encoded data removed]",
      "text/plain": [
       "<Figure size 1008x576 with 2 Axes>"
      ]
     },
     "metadata": {
      "needs_background": "light"
     },
     "output_type": "display_data"
    }
   ],
   "source": [
    "grouped_types = [['Restaurant'], mobile]\n",
    "\n",
    "# Initiate Plot\n",
    "fig = plt.figure(figsize=(14,8))\n",
    "fig_num = 120\n",
    "\n",
    "for frame in [rest_dropped_outliers, mobi_dropped_outliers]:\n",
    "    fig_num += 1\n",
    "    ax = fig.add_subplot(fig_num)\n",
    "    \n",
    "    if fig_num == 121:\n",
    "        target[0] = 'Restaurant'\n",
    "    else:\n",
    "        target[0] = 'Mobile'\n",
    "        \n",
    "    if target[0] == 'Restaurant':\n",
    "        color = 'red'\n",
    "    else:\n",
    "        color = 'blue'\n",
    "\n",
    "    sns.boxplot(frame['score'], color=color)\n",
    "    \n",
    "    plt.title(target[0])\n",
    "    plt.xlabel('Score')\n",
    "    plt.tight_layout()"
   ]
  },
  {
   "cell_type": "markdown",
   "metadata": {},
   "source": [
    "Here, again we see that the Mobiles have a slightly higher median than restaurants and the data is shifted slightly to the right compared to restaurants. This also supports the notion that mobiles scores are slightly better than restaurants."
   ]
  },
  {
   "cell_type": "markdown",
   "metadata": {},
   "source": [
    "### Analysis"
   ]
  },
  {
   "cell_type": "markdown",
   "metadata": {},
   "source": [
    "When comparing the mean between two distributions, we have the option of the Z-test or the t-test. We will be using the Z-test because the t-test is used for a small sample size, such as sample size less than 50. The Z-test can be used the the sample size is above 50. The Z-test assumes that the two distributions are normally distributed and have the same standard deviation. Based on the plots above, we can see that the data is normally distributed"
   ]
  },
  {
   "cell_type": "code",
   "execution_count": 140,
   "metadata": {},
   "outputs": [
    {
     "name": "stdout",
     "output_type": "stream",
     "text": [
      "Mobile standard deviation:  1.7881816058443851\n",
      "Restaurant standard deviation:  2.1565777982477936\n"
     ]
    }
   ],
   "source": [
    "print('Mobile standard deviation: ', mobi_dropped_outliers['score'].std())\n",
    "print('Restaurant standard deviation: ', rest_dropped_outliers['score'].std())"
   ]
  },
  {
   "cell_type": "markdown",
   "metadata": {},
   "source": [
    "Since the standard deviations are really similar, I believe we can us the Z-test."
   ]
  },
  {
   "cell_type": "markdown",
   "metadata": {},
   "source": [
    "Our null hypothesis will be that the mobiles score mean will be equal to the restaurants mean. <br>\n",
    "h0 = mean(mobiles) = mean(restaurants)\n",
    "\n",
    "Thus, our alternative will be the opposite, mobile score mean will be greater than the restaurant mean. <br>\n",
    "h1 = mean(mobiles) > mean(restaurants)\n",
    "\n",
    "We will use a significance level, alpha, of .05."
   ]
  },
  {
   "cell_type": "code",
   "execution_count": 141,
   "metadata": {},
   "outputs": [
    {
     "name": "stdout",
     "output_type": "stream",
     "text": [
      "Z-score: 29.82876481127452 | P-value: 8.277497234156665e-196\n"
     ]
    }
   ],
   "source": [
    "z_score, p_value = stats.ztest(mobi_dropped_outliers['score'], rest_dropped_outliers['score'], alternative='larger')\n",
    "print('Z-score:', z_score, '| P-value:', p_value)"
   ]
  },
  {
   "cell_type": "markdown",
   "metadata": {},
   "source": [
    "After using the Z-test, we get a Z-score of 29, which can be converted into a p-value of 8.277497234156665e-196. Since the p-value is smaller than our alpha, we will reject the null hypothesis and believe that the mobile score mean is greather than the restaurant score mean. However, since this could be due to chance, we will use a bootstrapping method to sample the data."
   ]
  },
  {
   "cell_type": "code",
   "execution_count": 142,
   "metadata": {},
   "outputs": [
    {
     "name": "stdout",
     "output_type": "stream",
     "text": [
      "Average P-value across 1000 p-values with a sample size of 1000: 4.8589658440240386e-33\n"
     ]
    }
   ],
   "source": [
    "rest = rest_dropped_outliers['score']\n",
    "mobi = mobi_dropped_outliers['score']\n",
    "\n",
    "sample_size = 1000\n",
    "iterations = 1000\n",
    "p_vals = []\n",
    "\n",
    "for i in np.arange(iterations):\n",
    "    rest_sample = rest.sample(sample_size).values\n",
    "    mobi_sample = mobi.sample(sample_size).values\n",
    "    \n",
    "    z_score, p_value = stats.ztest(mobi_sample, rest_sample, alternative='larger')\n",
    "    p_vals.append(p_value)\n",
    "    \n",
    "    \n",
    "print('Average P-value across 1000 p-values with a sample size of 1000:', np.mean(p_vals))"
   ]
  },
  {
   "cell_type": "markdown",
   "metadata": {},
   "source": [
    "The average p-value among the samples is still smaller than alpha, once again allowing us to reject the null hypothesis."
   ]
  },
  {
   "cell_type": "markdown",
   "metadata": {},
   "source": [
    "Based on our results, since our Z-test was able to reject the null hypothesis, we will believe that alternative hypothesis that mobile scores mean is higher than the restaurant scores mean. This follows our expectation from prior work as they also ended up with a similar result."
   ]
  },
  {
   "cell_type": "markdown",
   "metadata": {},
   "source": [
    "# Ethics & Privacy"
   ]
  },
  {
   "cell_type": "markdown",
   "metadata": {},
   "source": [
    "This data set was given to us and and the features we cared about are something that could be found in public. It is mandatory for restaurants to post their health scores, and hsisids are a way to identify a restaurant which isn't something private. Facility types is also considered public knowledge since it is available for everyone to find out. The data does not contain any breach of ethics or privacy because it is entirely details that could be found in public. I don't believe that there are any biases in the dataset because the features we use could not cause problems of equity."
   ]
  },
  {
   "cell_type": "markdown",
   "metadata": {},
   "source": [
    "# Conclusion & Discussion"
   ]
  },
  {
   "cell_type": "markdown",
   "metadata": {},
   "source": [
    "In this project, we attempt to reveal the truth behind the myth that food trucks, stands, and carts are unsafe compared to restaurants. To answer this, we use an inspection dataset that contains restaurants and their health scores to measure the safeness between the mobile units and restaurants. We are concerned about the average health scores among the two distributions, mobile units and restaurants which leads us to use the Z-tes, a test statistic that compares the means between two distributions. To reduce the probability that the results we get are due to chance, we will use the bootstrapping method to resample from the data in order to get results across many trials. This also helps us to meet the conditions of the Z-test, normal distribution and same sample size. After carrying out 1000 trials with a sample size of 1000, we ended up with a P-value below our significance level of .05. This allows us to reject the null hypothesis and believe the alternative. Thus, base on our analysis we believe that food trucks, stand, and carts are actually safer compared to restaurants."
   ]
  },
  {
   "cell_type": "code",
   "execution_count": null,
   "metadata": {},
   "outputs": [],
   "source": []
  }
 ],
 "metadata": {
  "kernelspec": {
   "display_name": "Python 3",
   "language": "python",
   "name": "python3"
  },
  "language_info": {
   "codemirror_mode": {
    "name": "ipython",
    "version": 3
   },
   "file_extension": ".py",
   "mimetype": "text/x-python",
   "name": "python",
   "nbconvert_exporter": "python",
   "pygments_lexer": "ipython3",
   "version": "3.7.6"
  }
 },
 "nbformat": 4,
 "nbformat_minor": 2
}
