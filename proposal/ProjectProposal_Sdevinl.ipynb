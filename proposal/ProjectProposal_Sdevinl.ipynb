{
 "cells": [
  {
   "cell_type": "markdown",
   "metadata": {},
   "source": [
    "# COGS 108 - Project Proposal"
   ]
  },
  {
   "cell_type": "markdown",
   "metadata": {},
   "source": [
    "# Names & GitHub ID\n",
    "\n",
    "- Name: Steven Liu\n",
    "- GitHub Username: sdevinl"
   ]
  },
  {
   "cell_type": "markdown",
   "metadata": {},
   "source": [
    "# Research Question"
   ]
  },
  {
   "cell_type": "markdown",
   "metadata": {},
   "source": [
    "To find a problem in the current system, I wonder why do people go or don't go to parks?\n",
    "\n",
    "Can you predict "
   ]
  },
  {
   "cell_type": "markdown",
   "metadata": {},
   "source": [
    "## Background and Prior Work"
   ]
  },
  {
   "cell_type": "markdown",
   "metadata": {},
   "source": [
    "In general, people have positive feelings when visiting a park, but the main reasons for visiting the park varies age and gender. (Reference 1)\n",
    "\n",
    "Visits to the park is encouraged by many, but to see that the average visit to a local park or recretaional facility is 27 times a year seems very low. (Reference 2, Page 6)\n",
    "\n",
    "Visits to the park also varies by racial/ethnic grups. (Reference 3)\n",
    "\n",
    "References (include links):\n",
    "- 1) https://www.nrpa.org/globalassets/engagement-survey-report-2018.pdf\n",
    "- 2) http://www.aessweb.com/pdf-files/ijass%203(10),%202196-2203.pdf\n",
    "- 3) https://www.ncbi.nlm.nih.gov/pmc/articles/PMC6181824/"
   ]
  },
  {
   "cell_type": "markdown",
   "metadata": {},
   "source": [
    "# Hypothesis\n"
   ]
  },
  {
   "cell_type": "markdown",
   "metadata": {},
   "source": [
    "I expect the most common reasons that people don't go to parks is because they don't have time. I suspect this because a typical person works from 8am - 5pm. Assuming that the person does not wake up early to go to the park, and that the sun will set around 7. This gives only around 2 hours each day to visit the park. This is difficult for an average person when considering their daily responsibilities and time it takes to commute for each."
   ]
  },
  {
   "cell_type": "markdown",
   "metadata": {},
   "source": [
    "# Data"
   ]
  },
  {
   "cell_type": "markdown",
   "metadata": {},
   "source": [
    "A perfect dataset would contain one variable for every possible reason one could have for not going to the park. Since we care about San Diego, ideally we would like to survey San Diego residents. It is also important to get a large enough sample size, in which is at least 10% of the San Diego population. If we have a dataset containing every possible reason, we would have too many variables. This may lead to a problem known as the 'curse of dimensionality' in which case we should transform this data by reducing the number of variables by classifying the variables into more general ones. We are particularly concerned about the biggest reasons people do, and don't go to the parks, so we will want to sort the data in that order. There's other info that I'd like to include in case for further questions would be things like, what is the nearest park and how far are you from it. Questions like these could give us a sense of which parks are visited the least and need more help than other parks."
   ]
  },
  {
   "cell_type": "markdown",
   "metadata": {},
   "source": [
    "# Ethics & Privacy"
   ]
  },
  {
   "cell_type": "markdown",
   "metadata": {},
   "source": [
    "Since this data is going to be taken from actual people, we will need to gain their permission from everyone and they will have the right to abstain us from using their data at any moment. We possibly may be asking questions that can be very personal to the person, thus we must do our best to prevent any leaks of information. It is very possible to obtain a bad sample which will contain a lot of bias. The analysis will most likely ignore reasons that don't fit in a general category. Based on one of the references, visits to the park vary disproportionately among race which will will require some special handling.\n",
    "\n",
    "To retain anonymity, we can exclude the names of the participants involved. The only thing that could be traced back the person is their address, which I don't feel is too violating. To make sure our data is representative, we have to make sure that we survey the correct people, and be as random as possible. It would require a lot of assistance from San Diego residents. Knowing that race plays a role in answering our question, this might allow us to focus on another question like 'Why do asians go to the park far less thant whites?'. We might have to break down the data set, and analyze them based on things like race and location. "
   ]
  },
  {
   "cell_type": "code",
   "execution_count": null,
   "metadata": {},
   "outputs": [],
   "source": []
  }
 ],
 "metadata": {
  "kernelspec": {
   "display_name": "Python 3",
   "language": "python",
   "name": "python3"
  },
  "language_info": {
   "codemirror_mode": {
    "name": "ipython",
    "version": 3
   },
   "file_extension": ".py",
   "mimetype": "text/x-python",
   "name": "python",
   "nbconvert_exporter": "python",
   "pygments_lexer": "ipython3",
   "version": "3.7.9"
  }
 },
 "nbformat": 4,
 "nbformat_minor": 4
}
